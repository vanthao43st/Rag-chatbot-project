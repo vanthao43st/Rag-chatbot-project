{
 "cells": [
  {
   "cell_type": "code",
   "execution_count": null,
   "id": "ef187317",
   "metadata": {},
   "outputs": [],
   "source": [
    "from langchain_community.document_loaders import DirectoryLoader, PyPDFLoader\n",
    "from langchain.text_splitter import RecursiveCharacterTextSplitter\n",
    "from sentence_transformers import SentenceTransformer\n",
    "from qdrant_client import QdrantClient\n",
    "from qdrant_client.models import VectorParams, Distance, PointStruct\n",
    "import google.generativeai as genai\n",
    "from dotenv import load_dotenv\n",
    "import os\n",
    "\n",
    "load_dotenv()"
   ]
  },
  {
   "cell_type": "markdown",
   "id": "c9778839",
   "metadata": {},
   "source": [
    "# **Load data**"
   ]
  },
  {
   "cell_type": "code",
   "execution_count": null,
   "id": "2e3ee0ad",
   "metadata": {},
   "outputs": [],
   "source": [
    "loader = DirectoryLoader('./data', glob='*.pdf', loader_cls=PyPDFLoader)\n",
    "document = loader.load()\n",
    "len(document)"
   ]
  },
  {
   "cell_type": "code",
   "execution_count": null,
   "id": "2b120482",
   "metadata": {},
   "outputs": [],
   "source": [
    "document[0]"
   ]
  },
  {
   "cell_type": "markdown",
   "id": "fade68a1",
   "metadata": {},
   "source": [
    "# **Divide the document into chunks**"
   ]
  },
  {
   "cell_type": "code",
   "execution_count": null,
   "id": "c0ce8fd0",
   "metadata": {},
   "outputs": [],
   "source": [
    "text_splitter = RecursiveCharacterTextSplitter(chunk_size=1000, chunk_overlap=200)\n",
    "docs = text_splitter.split_documents(document)\n",
    "print(f\"Số lượng chunks: {len(docs)}\")\n",
    "# print(docs[0].page_content[:300])  # xem thử 300 ký tự đầu tiên\n",
    "texts = [d.page_content for d in docs]  # trích nội dung\n",
    "print(texts[0][:300])"
   ]
  },
  {
   "cell_type": "markdown",
   "id": "1279d887",
   "metadata": {},
   "source": [
    "# **Set Qdrant and save document embedding vectors**"
   ]
  },
  {
   "cell_type": "code",
   "execution_count": null,
   "id": "4aa568c5",
   "metadata": {},
   "outputs": [],
   "source": [
    "qdrant_client = QdrantClient(\n",
    "    url=os.getenv(\"QDRANT_URL\"),\n",
    "    api_key=os.getenv(\"QDRANT_API_KEY\"),\n",
    ")\n",
    "print(qdrant_client.get_collections())"
   ]
  },
  {
   "cell_type": "code",
   "execution_count": null,
   "id": "4c9d01fb",
   "metadata": {},
   "outputs": [],
   "source": [
    "# TẠO COLLECTION (database cho embedding)\n",
    "qdrant_client.recreate_collection(\n",
    "    collection_name=\"pdf_chunks\",\n",
    "    vectors_config=VectorParams(\n",
    "        size=768,                   # kích thước vector (phải đúng với embedding model)\n",
    "        distance=Distance.COSINE    # kiểu đo khoảng cách (Cosine, Euclidean, Dot)\n",
    "    )\n",
    ")"
   ]
  },
  {
   "cell_type": "code",
   "execution_count": null,
   "id": "3c7e1784",
   "metadata": {},
   "outputs": [],
   "source": [
    "print(qdrant_client.get_collections())"
   ]
  },
  {
   "cell_type": "markdown",
   "id": "14061313",
   "metadata": {},
   "source": [
    "# **Embedding document chunks**"
   ]
  },
  {
   "cell_type": "code",
   "execution_count": null,
   "id": "7ebb76bb",
   "metadata": {},
   "outputs": [],
   "source": [
    "embedding = SentenceTransformer('intfloat/multilingual-e5-base')"
   ]
  },
  {
   "cell_type": "code",
   "execution_count": null,
   "id": "7f00e641",
   "metadata": {},
   "outputs": [],
   "source": [
    "embedded_vectors = embedding.encode(texts, show_progress_bar=True)\n",
    "print(\"Số vector:\", len(embedded_vectors))\n",
    "print(\"Kích thước vector:\", embedded_vectors.shape)\n",
    "print(embedded_vectors[0][:25])  # xem 5 phần tử đầu tiên của vector đầu tiên"
   ]
  },
  {
   "cell_type": "markdown",
   "id": "d60d0cba",
   "metadata": {},
   "source": [
    "# **Submit data to Qdrant Cloud**"
   ]
  },
  {
   "cell_type": "code",
   "execution_count": null,
   "id": "cce56ab7",
   "metadata": {},
   "outputs": [],
   "source": [
    "# Prepare PointStruct data for upsert\n",
    "points = []\n",
    "for i, doc in enumerate(docs):\n",
    "    point = PointStruct(\n",
    "        id=i,\n",
    "        vector=embedded_vectors[i].tolist(),\n",
    "        payload={\n",
    "            \"text\": doc.page_content,\n",
    "            \"source\": doc.metadata.get(\"source\", \"unknown\"),\n",
    "            \"page\": doc.metadata.get(\"page\", 0)\n",
    "        }\n",
    "    )\n",
    "    points.append(point)"
   ]
  },
  {
   "cell_type": "code",
   "execution_count": null,
   "id": "4ae977c1",
   "metadata": {},
   "outputs": [],
   "source": [
    "qdrant_client.upsert(\n",
    "    collection_name=\"pdf_chunks\",\n",
    "    points=points\n",
    ")"
   ]
  },
  {
   "cell_type": "code",
   "execution_count": null,
   "id": "627a2fd4",
   "metadata": {},
   "outputs": [],
   "source": [
    "info = qdrant_client.get_collection(\"pdf_chunks\")\n",
    "print(info)  # in thông tin collection\n",
    "\n",
    "count = qdrant_client.count(\"pdf_chunks\", exact=True)\n",
    "print(\"Tổng số điểm đã lưu:\", count.count)"
   ]
  },
  {
   "cell_type": "markdown",
   "id": "3f08ee2b",
   "metadata": {},
   "source": [
    "# **Search**"
   ]
  },
  {
   "cell_type": "code",
   "execution_count": null,
   "id": "ff6ce641",
   "metadata": {},
   "outputs": [],
   "source": [
    "query = \"Đối tượng dự tuyển sinh yêu cầu như thế nào?\"\n",
    "query_vector = embedding.encode([query])[0]\n",
    "\n",
    "results = qdrant_client.search(\n",
    "    collection_name=\"pdf_chunks\",\n",
    "    query_vector=query_vector.tolist(),\n",
    "    limit=3\n",
    ")\n",
    "\n",
    "for result in results:\n",
    "    print(f\"Score: {result.score:.4f}\")\n",
    "    print(f\"Source: {result.payload.get('source', 'unknown')} - Page: {result.payload.get('page', 0)}\")\n",
    "    print(f\"Text: {result.payload.get('text', '')[:300]}...\")\n",
    "    print(\"-\" * 50)"
   ]
  },
  {
   "cell_type": "markdown",
   "id": "3e03ab66",
   "metadata": {},
   "source": [
    "# **Concatenate query and embedding vector into llm model**"
   ]
  },
  {
   "cell_type": "code",
   "execution_count": null,
   "id": "58deb24a",
   "metadata": {},
   "outputs": [],
   "source": [
    "GEMINI_API_KEY = os.getenv(\"GOOOEL_GEMINI_API_KEY\")\n",
    "genai.configure(api_key=GEMINI_API_KEY)\n",
    "\n",
    "context = \"\\n\".join([result.payload.get('text', '') for result in results])\n",
    "question = \"Đối tượng dự tuyển sinh yêu cầu như thế nào?\"\n",
    "\n",
    "prompt = f\"\"\"\n",
    "Dựa trên ngữ cảnh sau, trả lời câu hỏi:\n",
    "Ngữ cảnh:\n",
    "{context}\n",
    "\n",
    "Câu hỏi:\n",
    "{question}\n",
    "\"\"\"\n",
    "\n",
    "model = genai.GenerativeModel(\"gemini-2.5-flash-preview-05-20\")\n",
    "response = model.generate_content(prompt)\n",
    "print(\"Response:\", response.text)"
   ]
  }
 ],
 "metadata": {
  "kernelspec": {
   "display_name": "Python 3",
   "language": "python",
   "name": "python3"
  },
  "language_info": {
   "codemirror_mode": {
    "name": "ipython",
    "version": 3
   },
   "file_extension": ".py",
   "mimetype": "text/x-python",
   "name": "python",
   "nbconvert_exporter": "python",
   "pygments_lexer": "ipython3",
   "version": "3.10.0"
  }
 },
 "nbformat": 4,
 "nbformat_minor": 5
}
